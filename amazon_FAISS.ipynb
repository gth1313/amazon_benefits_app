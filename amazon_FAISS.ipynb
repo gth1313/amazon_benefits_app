{
 "cells": [
  {
   "cell_type": "code",
   "execution_count": 1,
   "metadata": {},
   "outputs": [],
   "source": [
    "from langchain_community.document_loaders import DirectoryLoader\n",
    "from langchain.text_splitter import RecursiveCharacterTextSplitter\n",
    "from langchain_community.embeddings import OpenAIEmbeddings \n",
    "from langchain_community.vectorstores import FAISS"
   ]
  },
  {
   "cell_type": "code",
   "execution_count": 2,
   "metadata": {},
   "outputs": [
    {
     "name": "stdout",
     "output_type": "stream",
     "text": [
      "74 Pages Loaded\n"
     ]
    }
   ],
   "source": [
    "loader = DirectoryLoader(path=\"amazon-docs\")\n",
    "documents = loader.load()\n",
    "print(f\"{len(documents)} Pages Loaded\")"
   ]
  },
  {
   "cell_type": "code",
   "execution_count": 9,
   "metadata": {},
   "outputs": [],
   "source": [
    "text_splitter = RecursiveCharacterTextSplitter(\n",
    "    chunk_size=500, chunk_overlap=50, separators=[\"\\n\\n\", \"\\n\", \" \", \"\"]        \n",
    ")"
   ]
  },
  {
   "cell_type": "code",
   "execution_count": 10,
   "metadata": {},
   "outputs": [
    {
     "name": "stdout",
     "output_type": "stream",
     "text": [
      "Split into 1540 Documents...\n",
      "{'source': 'amazon-docs\\\\_.html'}\n"
     ]
    }
   ],
   "source": [
    "split_documents = text_splitter.split_documents(documents=documents)\n",
    "print(f\"Split into {len(split_documents)} Documents...\")\n",
    "\n",
    "print(split_documents[0].metadata)\n",
    "\n",
    "# Upload chunks as vector embeddings into FAISS\n",
    "embeddings = OpenAIEmbeddings()\n",
    "db = FAISS.from_documents(split_documents, embeddings)\n",
    "# Save the FAISS DB locally\n",
    "db.save_local(\"faiss_amazon_index\")"
   ]
  },
  {
   "cell_type": "code",
   "execution_count": 11,
   "metadata": {},
   "outputs": [
    {
     "name": "stdout",
     "output_type": "stream",
     "text": [
      "{'source': 'amazon-docs\\\\_.html'}\n"
     ]
    }
   ],
   "source": [
    "embeddings = OpenAIEmbeddings()\n",
    "print(split_documents[0].metadata)\n",
    "# Load the FAISS DB from local\n",
    "new_db = FAISS.load_local(\"faiss_amazon_index\", embeddings, allow_dangerous_deserialization=True)\n"
   ]
  },
  {
   "cell_type": "code",
   "execution_count": 13,
   "metadata": {},
   "outputs": [],
   "source": [
    "\n",
    "test_query = \"What are the benefits Amazon employees can start using on the first day?\"\n",
    "docs = new_db.similarity_search(test_query)"
   ]
  },
  {
   "cell_type": "code",
   "execution_count": 14,
   "metadata": {},
   "outputs": [
    {
     "name": "stdout",
     "output_type": "stream",
     "text": [
      "##---- Page ---##\n",
      "amazon-docs\\_news_workplace_amazon-health-benefits.html\n",
      "##---- Content ---##\n",
      "In addition to a slew of perks that include an employee discount, education benefits, and paid family leave (just to name a few), Amazon has some great health benefits, too. Unlike many employer health benefits, you can start using the ones at Amazon right from your very first day on the job, with no waiting period.\n",
      "\n",
      "14 new benefits Amazon is offering employees—from free estate planning to free mental health care\n",
      "##---- Page ---##\n",
      "amazon-docs\\_workplace_employee-benefits.html\n",
      "##---- Content ---##\n",
      "Employee Benefits\n",
      "\n",
      "Along with average hourly pay of over $20.50, Amazon offers a range of great benefits that support employees and eligible family members, including domestic partners and their children. These comprehensive benefits begin on day one and include health care coverage, paid parental leave, ways to save for the future, paid college tuition, and other resources to improve health and well-being.\n",
      "\n",
      "4 awesome health benefits Amazon employees can start using on their first day\n",
      "##---- Page ---##\n",
      "amazon-docs\\_about-us_amazon-reports.html\n",
      "##---- Content ---##\n",
      "Healthcare benefits start on Day 1 for Amazon employees\n",
      "\n",
      "We've committed $1.2 billion to provide pre-paid education and free skills training to employees\n",
      "\n",
      "From 2019-2022, we've reduced global worksite injuries by 24%\n",
      "\n",
      "supporting employees.\n",
      "##---- Page ---##\n",
      "amazon-docs\\_workplace_employee-benefits.html\n",
      "##---- Content ---##\n",
      "Amazon offers health care starting on day one of employment, along with mental health, advanced cancer care, and 24/7 access to medical advice.\n",
      "\n",
      "Learn more\n"
     ]
    }
   ],
   "source": [
    " # Print all the extracted Vectors from the above Query\n",
    "for doc in docs:\n",
    "    print(\"##---- Page ---##\")\n",
    "    print(doc.metadata['source'])\n",
    "    print(\"##---- Content ---##\")\n",
    "    print(doc.page_content)"
   ]
  },
  {
   "cell_type": "code",
   "execution_count": null,
   "metadata": {},
   "outputs": [],
   "source": []
  }
 ],
 "metadata": {
  "kernelspec": {
   "display_name": "openai",
   "language": "python",
   "name": "python3"
  },
  "language_info": {
   "codemirror_mode": {
    "name": "ipython",
    "version": 3
   },
   "file_extension": ".py",
   "mimetype": "text/x-python",
   "name": "python",
   "nbconvert_exporter": "python",
   "pygments_lexer": "ipython3",
   "version": "3.11.8"
  }
 },
 "nbformat": 4,
 "nbformat_minor": 2
}
